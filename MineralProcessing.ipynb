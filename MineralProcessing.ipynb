{
  "nbformat": 4,
  "nbformat_minor": 0,
  "metadata": {
    "colab": {
      "provenance": []
    },
    "kernelspec": {
      "name": "python3",
      "display_name": "Python 3"
    },
    "language_info": {
      "name": "python"
    }
  },
  "cells": [
    {
      "cell_type": "code",
      "execution_count": 1,
      "metadata": {
        "colab": {
          "base_uri": "https://localhost:8080/"
        },
        "id": "GrkFQr96tk9H",
        "outputId": "626a77ba-3cfa-48dd-ce0a-6a4837655eeb"
      },
      "outputs": [
        {
          "output_type": "stream",
          "name": "stdout",
          "text": [
            "Requirement already satisfied: opencv-python in /usr/local/lib/python3.10/dist-packages (4.8.0.76)\n",
            "Requirement already satisfied: numpy>=1.21.2 in /usr/local/lib/python3.10/dist-packages (from opencv-python) (1.23.5)\n"
          ]
        }
      ],
      "source": [
        "!pip install opencv-python"
      ]
    },
    {
      "cell_type": "code",
      "source": [
        "!pip install matplotlib"
      ],
      "metadata": {
        "colab": {
          "base_uri": "https://localhost:8080/"
        },
        "id": "TUChHM8nvM1I",
        "outputId": "5b9b86ee-fb11-4b95-f66a-c58cbaf6e8bd"
      },
      "execution_count": 3,
      "outputs": [
        {
          "output_type": "stream",
          "name": "stdout",
          "text": [
            "Requirement already satisfied: matplotlib in /usr/local/lib/python3.10/dist-packages (3.7.1)\n",
            "Requirement already satisfied: contourpy>=1.0.1 in /usr/local/lib/python3.10/dist-packages (from matplotlib) (1.1.1)\n",
            "Requirement already satisfied: cycler>=0.10 in /usr/local/lib/python3.10/dist-packages (from matplotlib) (0.12.0)\n",
            "Requirement already satisfied: fonttools>=4.22.0 in /usr/local/lib/python3.10/dist-packages (from matplotlib) (4.43.1)\n",
            "Requirement already satisfied: kiwisolver>=1.0.1 in /usr/local/lib/python3.10/dist-packages (from matplotlib) (1.4.5)\n",
            "Requirement already satisfied: numpy>=1.20 in /usr/local/lib/python3.10/dist-packages (from matplotlib) (1.23.5)\n",
            "Requirement already satisfied: packaging>=20.0 in /usr/local/lib/python3.10/dist-packages (from matplotlib) (23.2)\n",
            "Requirement already satisfied: pillow>=6.2.0 in /usr/local/lib/python3.10/dist-packages (from matplotlib) (9.4.0)\n",
            "Requirement already satisfied: pyparsing>=2.3.1 in /usr/local/lib/python3.10/dist-packages (from matplotlib) (3.1.1)\n",
            "Requirement already satisfied: python-dateutil>=2.7 in /usr/local/lib/python3.10/dist-packages (from matplotlib) (2.8.2)\n",
            "Requirement already satisfied: six>=1.5 in /usr/local/lib/python3.10/dist-packages (from python-dateutil>=2.7->matplotlib) (1.16.0)\n"
          ]
        }
      ]
    },
    {
      "cell_type": "code",
      "source": [
        "!pip install numpy"
      ],
      "metadata": {
        "colab": {
          "base_uri": "https://localhost:8080/"
        },
        "id": "pYmRSru-VpNu",
        "outputId": "22992ee6-4554-4404-8c02-5313938c60da"
      },
      "execution_count": 5,
      "outputs": [
        {
          "output_type": "stream",
          "name": "stdout",
          "text": [
            "Requirement already satisfied: numpy in /usr/local/lib/python3.10/dist-packages (1.23.5)\n"
          ]
        }
      ]
    },
    {
      "cell_type": "code",
      "source": [
        "import cv2\n",
        "import numpy as np\n",
        "import os\n",
        "import matplotlib.pyplot as plt\n",
        "import math\n",
        "\n",
        "def compute_major_axis(contour):\n",
        "    max_dist = 0\n",
        "    pt1, pt2 = None, None\n",
        "    for i in range(len(contour)):\n",
        "        for j in range(i+1, len(contour)):\n",
        "            dist = np.linalg.norm(contour[i] - contour[j])\n",
        "            if dist > max_dist:\n",
        "                line = np.linspace(contour[i], contour[j], 1000)\n",
        "                inside = True\n",
        "                for point in line:\n",
        "                    if cv2.pointPolygonTest(contour, (point[0][0], point[0][1]), False) < 0:\n",
        "                        inside = False\n",
        "                        break\n",
        "                if inside:\n",
        "                    max_dist = dist\n",
        "                    pt1 = tuple(contour[i][0])\n",
        "                    pt2 = tuple(contour[j][0])\n",
        "    return max_dist, pt1, pt2\n",
        "\n",
        "def add_padding(img, border_size=50):\n",
        "    \"\"\"Add a white padding around the image.\"\"\"\n",
        "    return cv2.copyMakeBorder(img, top=border_size, bottom=border_size, left=border_size, right=border_size, borderType=cv2.BORDER_CONSTANT, value=[255, 255, 255])\n",
        "\n",
        "input_folder = '/content/drive/MyDrive/Cognida Coding Challenge/Mineral Processing Technology - Image Analytics/input'\n",
        "output_folder = '/content/drive/MyDrive/Cognida Coding Challenge/Mineral Processing Technology - Image Analytics/output'\n",
        "\n",
        "visualized_outputs = []\n",
        "\n",
        "for filename in os.listdir(input_folder):\n",
        "    filepath = os.path.join(input_folder, filename)\n",
        "    original_image = cv2.imread(filepath)\n",
        "    gray = cv2.cvtColor(original_image, cv2.COLOR_BGR2GRAY)\n",
        "    _, binary = cv2.threshold(gray, 127, 255, cv2.THRESH_BINARY_INV)\n",
        "    contours, _ = cv2.findContours(binary, cv2.RETR_EXTERNAL, cv2.CHAIN_APPROX_SIMPLE)\n",
        "\n",
        "    for contour in contours:\n",
        "        # Add padding\n",
        "        padded_image = add_padding(original_image.copy())\n",
        "\n",
        "        # Adjust the contour points based on the padding\n",
        "        contour += 50  # 50 is the border_size as set in add_padding function\n",
        "\n",
        "        # 1. Smallest Enclosing Circle\n",
        "        image = padded_image.copy()\n",
        "        (x, y), radius = cv2.minEnclosingCircle(contour)\n",
        "        center = (int(x), int(y))\n",
        "        cv2.circle(image, center, int(radius), (57, 0, 199), 2)\n",
        "        output_filepath = os.path.join(output_folder, f\"encircle_{filename}\")\n",
        "        cv2.imwrite(output_filepath, image)\n",
        "\n",
        "        # 2. Total Surface Area\n",
        "        image = padded_image.copy()\n",
        "        area = cv2.contourArea(contour)\n",
        "        text_position = (image.shape[1] - 250, 50)  # Display the text on the upper right side\n",
        "        cv2.putText(image, f\"Area={int(area)} pixels\", text_position, cv2.FONT_HERSHEY_SIMPLEX, 0.75, (57, 0, 199), 2)\n",
        "        output_filepath = os.path.join(output_folder, f\"area_{filename}\")\n",
        "        cv2.imwrite(output_filepath, image)\n",
        "\n",
        "        # 3. Major Axis\n",
        "        image = padded_image.copy()\n",
        "        major_axis, pt1, pt2 = compute_major_axis(contour)\n",
        "        cv2.line(image, pt1, pt2, (0, 0, 255), 2)\n",
        "        cv2.putText(image, f\"Major axis={int(major_axis)} pixels\", text_position, cv2.FONT_HERSHEY_SIMPLEX, 0.75, (57, 0, 199), 2)\n",
        "        output_filepath = os.path.join(output_folder, f\"major_axis_{filename}\")\n",
        "        cv2.imwrite(output_filepath, image)\n",
        "\n",
        "        # 4. Perimeter\n",
        "        image = padded_image.copy()\n",
        "        perimeter = cv2.arcLength(contour, True)\n",
        "        cv2.putText(image, f\"Perimeter={int(perimeter)} pixels\", text_position, cv2.FONT_HERSHEY_SIMPLEX, 0.75, (57, 0, 199), 2)\n",
        "        output_filepath = os.path.join(output_folder, f\"perimeter_{filename}\")\n",
        "        cv2.imwrite(output_filepath, image)\n",
        "\n",
        "        # 5. Centroid\n",
        "        image = padded_image.copy()\n",
        "        M = cv2.moments(contour)\n",
        "        cx = int(M['m10'] / M['m00'])\n",
        "        cy = int(M['m01'] / M['m00'])\n",
        "        cv2.circle(image, (cx, cy), 5, (36, 184, 233), -1)\n",
        "        cv2.putText(image, f\"Centroid=({cx},{cy})\", (center[0]-55, center[1]+60), cv2.FONT_HERSHEY_SIMPLEX, 0.5, (57, 0, 199), 2)\n",
        "        output_filepath = os.path.join(output_folder, f\"centroid_{filename}\")\n",
        "        cv2.imwrite(output_filepath, image)\n",
        "\n",
        "plt.figure(figsize=(15, 10))\n",
        "columns = 5\n",
        "\n",
        "for i, image in enumerate(visualized_outputs, 1):\n",
        "    plt.subplot(math.ceil(len(visualized_outputs) / columns), columns, i)\n",
        "    plt.imshow(image)\n",
        "    plt.axis('off')\n",
        "\n",
        "plt.show()\n"
      ],
      "metadata": {
        "colab": {
          "base_uri": "https://localhost:8080/",
          "height": 35
        },
        "id": "aeUXgC3fugId",
        "outputId": "bba81068-25ef-492b-fb97-da5b7aefeb30"
      },
      "execution_count": 3,
      "outputs": [
        {
          "output_type": "display_data",
          "data": {
            "text/plain": [
              "<Figure size 1500x1000 with 0 Axes>"
            ]
          },
          "metadata": {}
        }
      ]
    }
  ]
}